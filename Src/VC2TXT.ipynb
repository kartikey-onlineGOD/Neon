import speech_recognition as sr
s=""
def s2t( s ):
    r = sr.Recognizer()
    with sr.Microphone() as source:
        print("Talk")
        audio_text = r.listen(source)
        print("Time over, thanks")
            try:
            print("Text: "+r.recognize_google(audio_text))
            s = r.recognize_google(audio_text)
            return s
        except:
             print("Sorry, I did not get that")       

                
s2t()