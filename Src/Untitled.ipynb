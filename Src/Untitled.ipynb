{
 "cells": [
  {
   "cell_type": "code",
   "execution_count": 9,
   "metadata": {},
   "outputs": [
    {
     "name": "stdout",
     "output_type": "stream",
     "text": [
      "Requirement already satisfied: speechrecognition in c:\\users\\kartikey pandey\\anaconda3\\lib\\site-packages (3.8.1)\n"
     ]
    }
   ],
   "source": [
    "!pip install speechrecognition"
   ]
  },
  {
   "cell_type": "code",
   "execution_count": 12,
   "metadata": {},
   "outputs": [],
   "source": [
    "#import library\n",
    "\n",
    "import speech_recognition as sr\n",
    "s=\"\"\n",
    "def s2t(  ):\n",
    "    # Initialize recognizer class (for recognizing the speech)\n",
    "\n",
    "    r = sr.Recognizer()\n",
    "\n",
    "    # Reading Microphone as source\n",
    "    # listening the speech and store in audio_text variable\n",
    "\n",
    "    with sr.Microphone() as source:\n",
    "        print(\"Talk\")\n",
    "        audio_text = r.listen(source)\n",
    "        print(\"Time over, thanks\")\n",
    "    # recoginize_() method will throw a request error if the API is unreachable, hence using exception handling\n",
    "    \n",
    "        try:\n",
    "            # using google speech recognition\n",
    "            print(\"Text: \"+r.recognize_google(audio_text))\n",
    "            s = r.recognize_google(audio_text)\n",
    "            return s\n",
    "        except:\n",
    "             print(\"Sorry, I did not get that\")\n",
    "\n",
    "\n",
    "             \n"
   ]
  },
  {
   "cell_type": "code",
   "execution_count": 13,
   "metadata": {},
   "outputs": [
    {
     "name": "stdout",
     "output_type": "stream",
     "text": [
      "Talk\n",
      "Time over, thanks\n",
      "Text: hello\n"
     ]
    },
    {
     "data": {
      "text/plain": [
       "'hello'"
      ]
     },
     "execution_count": 13,
     "metadata": {},
     "output_type": "execute_result"
    }
   ],
   "source": [
    "s2t()"
   ]
  },
  {
   "cell_type": "code",
   "execution_count": null,
   "metadata": {},
   "outputs": [],
   "source": []
  }
 ],
 "metadata": {
  "kernelspec": {
   "display_name": "Python 3",
   "language": "python",
   "name": "python3"
  }
 },
 "nbformat": 4,
 "nbformat_minor": 4
}
