{
 "cells": [
  {
   "cell_type": "code",
   "execution_count": 1,
   "metadata": {},
   "outputs": [
    {
     "name": "stdout",
     "output_type": "stream",
     "text": [
      "Requirement already satisfied: speechrecognition in c:\\users\\kartikey pandey\\anaconda3\\lib\\site-packages (3.8.1)\n"
     ]
    }
   ],
   "source": [
    "!pip install speechrecognition"
   ]
  },
  {
   "cell_type": "code",
   "execution_count": 3,
   "metadata": {},
   "outputs": [],
   "source": [
    "#import library\n",
    "\n",
    "import speech_recognition as sr\n",
    "para = [\"\"]\n",
    "s=\"\"\n",
    "def s2t(  ):\n",
    "    # Initialize recognizer class (for recognizing the speech)\n",
    "\n",
    "    r = sr.Recognizer()\n",
    "\n",
    "    # Reading Microphone as source\n",
    "    # listening the speech and store in audio_text variable\n",
    "\n",
    "    with sr.Microphone() as source:\n",
    "        print(\"Talk\")\n",
    "        audio_text = r.listen(source)\n",
    "        print(\"Time over, thanks\")\n",
    "    # recoginize_() method will throw a request error if the API is unreachable, hence using exception handling\n",
    "    \n",
    "        try:\n",
    "            # using google speech recognition\n",
    "            s = r.recognize_google(audio_text)\n",
    "            return s\n",
    "        except:\n",
    "             print(\"Sorry, I did not get that\")\n",
    "             s = False \n",
    "             return s\n",
    "\n",
    "\n",
    "             \n"
   ]
  }
 ],
 "metadata": {
  "kernelspec": {
   "display_name": "Python 3",
   "language": "python",
   "name": "python3"
  },
  "language_info": {
   "codemirror_mode": {
    "name": "ipython",
    "version": 3
   },
   "file_extension": ".py",
   "mimetype": "text/x-python",
   "name": "python",
   "nbconvert_exporter": "python",
   "pygments_lexer": "ipython3",
   "version": "3.7.6"
  }
 },
 "nbformat": 4,
 "nbformat_minor": 4
}
